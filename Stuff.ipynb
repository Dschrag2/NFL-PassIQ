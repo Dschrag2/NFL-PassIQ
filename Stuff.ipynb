{
 "cells": [
  {
   "cell_type": "code",
   "execution_count": 2,
   "id": "5cbd1747",
   "metadata": {},
   "outputs": [],
   "source": [
    "import pandas as pd\n",
    "import torch\n",
    "from tqdm import tqdm\n",
    "import numpy as np"
   ]
  },
  {
   "cell_type": "code",
   "execution_count": 3,
   "id": "1e661fb9",
   "metadata": {},
   "outputs": [],
   "source": [
    "## Reading in Data\n",
    "\n",
    "play_data = pd.read_csv(\"data/plays.csv\")\n",
    "player_data = pd.read_csv(\"data/players.csv\")\n",
    "player_play_data = pd.read_csv(\"data/player_play.csv\")\n",
    "\n",
    "passing_plays = play_data[play_data[\"passResult\"].isin([\"C\", \"I\", \"IN\"])]"
   ]
  },
  {
   "cell_type": "code",
   "execution_count": 15,
   "id": "5643a43d",
   "metadata": {},
   "outputs": [],
   "source": [
    "## Helper Functions\n",
    "\n",
    "# Calculate distance between nodes\n",
    "def get_edge_weights(edges, play, tracking_data):\n",
    "    # Initializing weights array\n",
    "    weights = []\n",
    "\n",
    "    for i in range(len(edges[0])):\n",
    "        # Getting 2 players from tracking data\n",
    "        P1 = tracking_data[(tracking_data[\"gameId\"] == play.gameId) & (tracking_data[\"playId\"] == play.playId) & (tracking_data[\"nflId\"] == edges[0][i])]\n",
    "        P2 = tracking_data[(tracking_data[\"gameId\"] == play.gameId) & (tracking_data[\"playId\"] == play.playId) & (tracking_data[\"nflId\"] == edges[1][i])]\n",
    "\n",
    "        # Converting players to points\n",
    "        point1 = np.array([P1[\"x\"], P1[\"y\"]])\n",
    "        point2 = np.array([P2[\"x\"], P2[\"y\"]])\n",
    "\n",
    "        # Calculating distance between players\n",
    "        dist = np.linalg.norm(point2 - point1)\n",
    "\n",
    "        weights.append(dist)\n",
    "\n",
    "    return weights"
   ]
  },
  {
   "cell_type": "code",
   "execution_count": 18,
   "id": "da5ecfb3",
   "metadata": {},
   "outputs": [
    {
     "name": "stderr",
     "output_type": "stream",
     "text": [
      "Processing Plays:   0%|          | 0/696 [00:00<?, ?play/s]"
     ]
    },
    {
     "name": "stdout",
     "output_type": "stream",
     "text": [
      "{'edges': array([[40024, 40024, 40024, 40024, 40024, 40024, 40024, 44819, 44819,\n",
      "        44819, 44819, 44819, 44819, 44819, 44856, 44856, 44856, 44856,\n",
      "        44856, 44856, 44856, 46100, 46100, 46100, 46100, 46100, 46100,\n",
      "        46100],\n",
      "       [44968, 46187, 47810, 47817, 53472, 53509, 53596, 44968, 46187,\n",
      "        47810, 47817, 53472, 53509, 53596, 44968, 46187, 47810, 47817,\n",
      "        53472, 53509, 53596, 44968, 46187, 47810, 47817, 53472, 53509,\n",
      "        53596]]), 'edge_weights': [np.float64(5.818358875146836), np.float64(14.723926106850712), np.float64(14.563145264674112), np.float64(10.315643460298539), np.float64(12.812700730134926), np.float64(9.58124209066862), np.float64(16.588441759249115), np.float64(17.916143558254937), np.float64(1.5730543537971007), np.float64(22.735824154844266), np.float64(23.018032061842298), np.float64(17.158484781588385), np.float64(9.380644967165104), np.float64(6.552289676136116), np.float64(11.131253298708103), np.float64(20.470889086700655), np.float64(5.895125104694555), np.float64(13.084846197032657), np.float64(27.233013054012222), np.float64(9.718893969994731), np.float64(15.669285242154476), np.float64(15.970704430299874), np.float64(17.30891388851421), np.float64(12.996865006608326), np.float64(19.250958417699625), np.float64(28.362122628604514), np.float64(8.765300907555883), np.float64(10.577395709719857)], 'receivers': [[np.float64(45.78), np.float64(29.65), np.float64(8.77), np.float64(0.95), np.float64(359.29), np.float64(314.98)], [np.float64(47.45), np.float64(15.77), np.float64(7.54), np.float64(4.36), np.float64(358.26), np.float64(337.37)], [np.float64(60.54), np.float64(29.46), np.float64(5.8), np.float64(1.48), np.float64(167.7), np.float64(199.35)], [np.float64(61.71), np.float64(22.45), np.float64(5.2), np.float64(1.17), np.float64(101.78), np.float64(188.16)]], 'defenders': [[np.float64(50.16), np.float64(33.48), np.float64(7.16), np.float64(1.38), np.float64(261.23), np.float64(288.86)], [np.float64(46.12), np.float64(14.93), np.float64(7.11), np.float64(3.22), np.float64(359.86), np.float64(340.19)], [np.float64(59.24), np.float64(35.21), np.float64(3.0), np.float64(1.17), np.float64(137.07), np.float64(177.0)], [np.float64(51.08), np.float64(38.5), np.float64(7.39), np.float64(2.11), np.float64(256.35), np.float64(265.25)], [np.float64(33.55), np.float64(25.83), np.float64(4.75), np.float64(4.71), np.float64(27.42), np.float64(310.77)], [np.float64(52.99), np.float64(23.34), np.float64(3.87), np.float64(0.88), np.float64(67.12), np.float64(244.22)], [np.float64(53.98), np.float64(15.23), np.float64(4.69), np.float64(2.18), np.float64(16.68), np.float64(208.42)]]}\n"
     ]
    },
    {
     "name": "stderr",
     "output_type": "stream",
     "text": [
      "\n"
     ]
    }
   ],
   "source": [
    "\n",
    "# Getting tracking data at moment of pass\n",
    "week_data = pd.read_csv(\"data/tracking_week_1.csv\")\n",
    "week_data = week_data[week_data[\"event\"] == \"pass_forward\"]\n",
    "\n",
    "# Getting list of completions by gameId and playId\n",
    "completions = passing_plays[passing_plays[\"passResult\"] == \"C\"]\n",
    "playIds = completions[[\"gameId\", \"playId\"]].drop_duplicates()\n",
    "\n",
    "# Filtering tracking data to only completion plays\n",
    "week_data_completions = week_data.merge(playIds, on=[\"gameId\", \"playId\"])\n",
    "\n",
    "# Removing playIds not from this week\n",
    "playIds = playIds[playIds[\"gameId\"].isin(set(week_data_completions[\"gameId\"]))]\n",
    "\n",
    "for row in tqdm(playIds.itertuples(index=True), total=len(playIds), desc=\"Processing Plays\", unit=\"play\"):\n",
    "    # Initializing play_data\n",
    "    play_data = {}\n",
    "\n",
    "    # Getting list of eligible receivers and defenders in coverage\n",
    "    Recs = player_play_data[(player_play_data[\"gameId\"] == row.gameId) & (player_play_data[\"playId\"] == row.playId) & (player_play_data[\"wasRunningRoute\"] == True)]\n",
    "    Defs = player_play_data[(player_play_data[\"gameId\"] == row.gameId) & (player_play_data[\"playId\"] == row.playId) & ~pd.isna(player_play_data[\"pff_defensiveCoverageAssignment\"])]\n",
    "\n",
    "    # Creating edges array:  size = [2, len(Receivers) * len(Defenders)]\n",
    "    R_nodes = Recs[\"nflId\"].values\n",
    "    D_nodes = Defs[\"nflId\"].values\n",
    "    play_data[\"edges\"] = np.vstack([np.repeat(R_nodes, len(Defs)), np.tile(D_nodes, len(Recs))])\n",
    "\n",
    "    # Getting distance from each offensive player to each defensive player\n",
    "    play_data[\"edge_weights\"] = get_edge_weights(play_data[\"edges\"], row, week_data_completions)\n",
    "\n",
    "    # Creating vectors of node data for each player\n",
    "    # Current Vector = [ x, y, speed, acceleration, orientation, direction of motion ]\n",
    "    Receivers = []\n",
    "    for WR in Recs.itertuples(index=True):\n",
    "        WR_row = week_data_completions[(week_data_completions[\"gameId\"] == row.gameId) & (week_data_completions[\"playId\"] == row.playId) & (week_data_completions[\"nflId\"] == WR.nflId)]\n",
    "        Receivers.append([WR_row[\"x\"].iloc[0], WR_row[\"y\"].iloc[0], WR_row[\"s\"].iloc[0], WR_row[\"a\"].iloc[0], WR_row[\"o\"].iloc[0], WR_row[\"dir\"].iloc[0]])\n",
    "    Defenders = []\n",
    "    for Def in Defs.itertuples(index=True):\n",
    "        Def_row = week_data_completions[(week_data_completions[\"gameId\"] == row.gameId) & (week_data_completions[\"playId\"] == row.playId) & (week_data_completions[\"nflId\"] == Def.nflId)]\n",
    "        Defenders.append([Def_row[\"x\"].iloc[0], Def_row[\"y\"].iloc[0], Def_row[\"s\"].iloc[0], Def_row[\"a\"].iloc[0], Def_row[\"o\"].iloc[0], Def_row[\"dir\"].iloc[0]])\n",
    "\n",
    "    # Adding Receiver and Defender arrays to play_data\n",
    "    play_data[\"receivers\"] = Receivers\n",
    "    play_data[\"defenders\"] = Defenders\n",
    "\n",
    "    print(play_data)\n",
    "    break"
   ]
  }
 ],
 "metadata": {
  "kernelspec": {
   "display_name": "nfl-env",
   "language": "python",
   "name": "python3"
  },
  "language_info": {
   "codemirror_mode": {
    "name": "ipython",
    "version": 3
   },
   "file_extension": ".py",
   "mimetype": "text/x-python",
   "name": "python",
   "nbconvert_exporter": "python",
   "pygments_lexer": "ipython3",
   "version": "3.12.9"
  }
 },
 "nbformat": 4,
 "nbformat_minor": 5
}
