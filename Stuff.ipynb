{
 "cells": [
  {
   "cell_type": "code",
   "execution_count": 2,
   "id": "5cbd1747",
   "metadata": {},
   "outputs": [],
   "source": [
    "import pandas as pd\n",
    "import torch\n",
    "from tqdm import tqdm\n",
    "import numpy as np"
   ]
  },
  {
   "cell_type": "code",
   "execution_count": 3,
   "id": "1e661fb9",
   "metadata": {},
   "outputs": [],
   "source": [
    "## Reading in Data\n",
    "\n",
    "play_data = pd.read_csv(\"data/plays.csv\")\n",
    "player_data = pd.read_csv(\"data/players.csv\")\n",
    "player_play_data = pd.read_csv(\"data/player_play.csv\")\n",
    "\n",
    "passing_plays = play_data[play_data[\"passResult\"].isin([\"C\", \"I\", \"IN\"])]"
   ]
  },
  {
   "cell_type": "code",
   "execution_count": 26,
   "id": "5643a43d",
   "metadata": {},
   "outputs": [],
   "source": [
    "## Helper Functions\n",
    "\n",
    "# Calculate distance between nodes\n",
    "def get_edge_weights(edges, play, tracking_data):\n",
    "    # Initializing weights array\n",
    "    weights = []\n",
    "\n",
    "    for i in range(len(edges[0])):\n",
    "        # Getting 2 players from tracking data\n",
    "        P1 = tracking_data[(tracking_data[\"gameId\"] == play.gameId) & (tracking_data[\"playId\"] == play.playId) & (tracking_data[\"nflId\"] == edges[0][i])]\n",
    "        P2 = tracking_data[(tracking_data[\"gameId\"] == play.gameId) & (tracking_data[\"playId\"] == play.playId) & (tracking_data[\"nflId\"] == edges[1][i])]\n",
    "\n",
    "        # Converting players to points\n",
    "        point1 = np.array([P1[\"x\"], P1[\"y\"]])\n",
    "        point2 = np.array([P2[\"x\"], P2[\"y\"]])\n",
    "\n",
    "        # Calculating distance between players\n",
    "        dist = np.linalg.norm(point2 - point1)\n",
    "\n",
    "        weights.append(dist)\n",
    "\n",
    "    return weights\n",
    "\n",
    "# Finding targeted node\n",
    "def get_targeted_receiver(Recs, nflIDs):\n",
    "    \n",
    "    for WR in Recs.itertuples(index=True):\n",
    "        if (WR.wasTargettedReceiver):\n",
    "            return np.where(nflIDs == WR.nflId)[0][0]"
   ]
  },
  {
   "cell_type": "code",
   "execution_count": 36,
   "id": "da5ecfb3",
   "metadata": {},
   "outputs": [
    {
     "name": "stderr",
     "output_type": "stream",
     "text": [
      "Processing Plays: 100%|██████████| 696/696 [00:32<00:00, 21.71play/s]\n"
     ]
    }
   ],
   "source": [
    "\n",
    "# Getting tracking data at moment of pass\n",
    "week_data = pd.read_csv(\"data/tracking_week_1.csv\")\n",
    "week_data = week_data[week_data[\"event\"].isin([\"pass_forward\", \"pass_shovel\"])]\n",
    "\n",
    "# Getting list of completions by gameId and playId\n",
    "completions = passing_plays[passing_plays[\"passResult\"] == \"C\"]\n",
    "playIds = completions[[\"gameId\", \"playId\"]].drop_duplicates()\n",
    "\n",
    "# Filtering tracking data to only completion plays\n",
    "week_data_completions = week_data.merge(playIds, on=[\"gameId\", \"playId\"])\n",
    "\n",
    "# Removing playIds not from this week\n",
    "playIds = playIds[playIds[\"gameId\"].isin(set(week_data_completions[\"gameId\"]))]\n",
    "\n",
    "graph_data = []\n",
    "\n",
    "for i,row in tqdm(enumerate(playIds.itertuples(index=True)), total=len(playIds), desc=\"Processing Plays\", unit=\"play\"):\n",
    "\n",
    "    # Initializing play_data\n",
    "    play_data = {}\n",
    "\n",
    "    # Getting list of eligible receivers and defenders in coverage\n",
    "    Recs = player_play_data[(player_play_data[\"gameId\"] == row.gameId) & (player_play_data[\"playId\"] == row.playId) & (player_play_data[\"wasRunningRoute\"] == True)]\n",
    "    Defs = player_play_data[(player_play_data[\"gameId\"] == row.gameId) & (player_play_data[\"playId\"] == row.playId) & ~pd.isna(player_play_data[\"pff_defensiveCoverageAssignment\"])]\n",
    "\n",
    "    # Creating edges array:  size = [2, len(Receivers) * len(Defenders)]\n",
    "    R_nodes = np.arange(len(Recs))\n",
    "    D_nodes = np.arange(len(Recs), len(Defs) + len(Recs))\n",
    "    play_data[\"edges\"] = np.vstack([np.repeat(R_nodes, len(Defs)), np.tile(D_nodes, len(Recs))])\n",
    "\n",
    "    # Creating edges array with nflIds\n",
    "    R_nodes2 = Recs[\"nflId\"].values\n",
    "    D_nodes2 = Defs[\"nflId\"].values\n",
    "    nflIDs = np.concatenate([Recs[\"nflId\"].values, Defs[\"nflId\"].values])\n",
    "    edgeIDs = np.vstack([np.repeat(R_nodes2, len(Defs)), np.tile(D_nodes2, len(Recs))])\n",
    "\n",
    "    # Getting distance from each offensive player to each defensive player\n",
    "    play_data[\"edge_weights\"] = get_edge_weights(edgeIDs, row, week_data_completions)\n",
    "\n",
    "    # Creating vectors of node data for each player\n",
    "    # Current Vector = [ x, y, speed, acceleration, orientation, direction of motion ]\n",
    "    Receivers = []\n",
    "    for WR in Recs.itertuples(index=True):\n",
    "        WR_row = week_data_completions[(week_data_completions[\"gameId\"] == row.gameId) & (week_data_completions[\"playId\"] == row.playId) & (week_data_completions[\"nflId\"] == WR.nflId)]\n",
    "        Receivers.append([WR_row[\"x\"].iloc[0], WR_row[\"y\"].iloc[0], WR_row[\"s\"].iloc[0], WR_row[\"a\"].iloc[0], WR_row[\"o\"].iloc[0], WR_row[\"dir\"].iloc[0]])\n",
    "    Defenders = []\n",
    "    for Def in Defs.itertuples(index=True):\n",
    "        Def_row = week_data_completions[(week_data_completions[\"gameId\"] == row.gameId) & (week_data_completions[\"playId\"] == row.playId) & (week_data_completions[\"nflId\"] == Def.nflId)]\n",
    "        Defenders.append([Def_row[\"x\"].iloc[0], Def_row[\"y\"].iloc[0], Def_row[\"s\"].iloc[0], Def_row[\"a\"].iloc[0], Def_row[\"o\"].iloc[0], Def_row[\"dir\"].iloc[0]])\n",
    "\n",
    "    # Adding Receiver and Defender arrays to play_data\n",
    "    play_data[\"receivers\"] = Receivers\n",
    "    play_data[\"defenders\"] = Defenders\n",
    "\n",
    "    play_data[\"y\"] = get_targeted_receiver(Recs, nflIDs)\n",
    "\n",
    "    graph_data.append(play_data)"
   ]
  }
 ],
 "metadata": {
  "kernelspec": {
   "display_name": "nfl-env",
   "language": "python",
   "name": "python3"
  },
  "language_info": {
   "codemirror_mode": {
    "name": "ipython",
    "version": 3
   },
   "file_extension": ".py",
   "mimetype": "text/x-python",
   "name": "python",
   "nbconvert_exporter": "python",
   "pygments_lexer": "ipython3",
   "version": "3.12.9"
  }
 },
 "nbformat": 4,
 "nbformat_minor": 5
}
