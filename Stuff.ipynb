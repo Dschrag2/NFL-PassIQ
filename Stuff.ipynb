{
 "cells": [
  {
   "cell_type": "code",
   "execution_count": 17,
   "id": "5cbd1747",
   "metadata": {},
   "outputs": [],
   "source": [
    "import pandas as pd"
   ]
  },
  {
   "cell_type": "code",
   "execution_count": null,
   "id": "1e661fb9",
   "metadata": {},
   "outputs": [],
   "source": [
    "player_data = pd.read_csv(\"data/players.csv\")\n",
    "player_play_data = pd.read_csv(\"data/player_play.csv\")\n",
    "\n",
    "print(player_play_data[pd.isna(player_play_data[\"pff_defensiveCoverageAssignment\"])])"
   ]
  },
  {
   "cell_type": "code",
   "execution_count": 23,
   "id": "da5ecfb3",
   "metadata": {},
   "outputs": [],
   "source": [
    "# Getting list of completions by gameId and playId\n",
    "passing_plays = pd.read_csv(\"data/filtered_pass_plays.csv\")\n",
    "completions = passing_plays[passing_plays[\"passResult\"] == \"C\"]\n",
    "playIds = completions[[\"gameId\", \"playId\"]].drop_duplicates()\n",
    "\n",
    "# Getting tracking data at moment of pass\n",
    "week_data = pd.read_csv(\"data/tracking_week_1.csv\")\n",
    "week_data = week_data[week_data[\"event\"] == \"pass_forward\"]\n",
    "\n",
    "# Filtering tracking data to only completion plays\n",
    "week_data_completions = week_data.merge(playIds, on=[\"gameId\", \"playId\"])\n",
    "\n",
    "week_data_completions.to_csv(\"Test.csv\")"
   ]
  }
 ],
 "metadata": {
  "kernelspec": {
   "display_name": "nfl-env",
   "language": "python",
   "name": "python3"
  },
  "language_info": {
   "codemirror_mode": {
    "name": "ipython",
    "version": 3
   },
   "file_extension": ".py",
   "mimetype": "text/x-python",
   "name": "python",
   "nbconvert_exporter": "python",
   "pygments_lexer": "ipython3",
   "version": "3.12.9"
  }
 },
 "nbformat": 4,
 "nbformat_minor": 5
}
